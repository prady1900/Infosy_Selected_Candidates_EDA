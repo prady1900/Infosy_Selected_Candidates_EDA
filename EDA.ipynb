{
 "cells": [
  {
   "cell_type": "code",
   "execution_count": 13,
   "metadata": {},
   "outputs": [],
   "source": [
    "import pandas as pd\n",
    "import seaborn as sns\n",
    "import datetime"
   ]
  },
  {
   "cell_type": "code",
   "execution_count": 2,
   "metadata": {},
   "outputs": [
    {
     "data": {
      "text/html": [
       "<div>\n",
       "<style scoped>\n",
       "    .dataframe tbody tr th:only-of-type {\n",
       "        vertical-align: middle;\n",
       "    }\n",
       "\n",
       "    .dataframe tbody tr th {\n",
       "        vertical-align: top;\n",
       "    }\n",
       "\n",
       "    .dataframe thead th {\n",
       "        text-align: right;\n",
       "    }\n",
       "</style>\n",
       "<table border=\"1\" class=\"dataframe\">\n",
       "  <thead>\n",
       "    <tr style=\"text-align: right;\">\n",
       "      <th></th>\n",
       "      <th>Sl No</th>\n",
       "      <th>Candidate First Name</th>\n",
       "      <th>Candidate Last Name</th>\n",
       "      <th>Candidate Mail Id</th>\n",
       "      <th>Candidate mobile_Number</th>\n",
       "      <th>Date of Birth</th>\n",
       "      <th>graduation_State</th>\n",
       "      <th>graduation_Board_Or_University</th>\n",
       "      <th>graduation_College_Name</th>\n",
       "      <th>graduation_Specialization_Or_Branch</th>\n",
       "      <th>graduation_Qualification</th>\n",
       "      <th>College Name</th>\n",
       "      <th>College State</th>\n",
       "      <th>Region</th>\n",
       "    </tr>\n",
       "  </thead>\n",
       "  <tbody>\n",
       "    <tr>\n",
       "      <th>0</th>\n",
       "      <td>1</td>\n",
       "      <td>Shruti</td>\n",
       "      <td>Udyawar</td>\n",
       "      <td>shruti.udyawar@somaiya.edu</td>\n",
       "      <td>7045935873</td>\n",
       "      <td>2000-09-28</td>\n",
       "      <td>Maharashtra</td>\n",
       "      <td>MUMBAI UNIVERSITY</td>\n",
       "      <td>K. J. Somaiya College Of Science &amp; Commerce</td>\n",
       "      <td>Information Technology</td>\n",
       "      <td>Bachelor Of Science</td>\n",
       "      <td>Hislop College Nagpur</td>\n",
       "      <td>Maharashtra</td>\n",
       "      <td>West + Raj</td>\n",
       "    </tr>\n",
       "    <tr>\n",
       "      <th>1</th>\n",
       "      <td>2</td>\n",
       "      <td>Bhavik</td>\n",
       "      <td>Deorya</td>\n",
       "      <td>deorya@gmail.com</td>\n",
       "      <td>9967513173</td>\n",
       "      <td>2001-01-23</td>\n",
       "      <td>Maharashtra</td>\n",
       "      <td>MUMBAI UNIVERSITY</td>\n",
       "      <td>Other</td>\n",
       "      <td>Information Technology</td>\n",
       "      <td>Bachelor Of Science</td>\n",
       "      <td>VPM's R.Z College of Science</td>\n",
       "      <td>Maharashtra</td>\n",
       "      <td>West + Raj</td>\n",
       "    </tr>\n",
       "    <tr>\n",
       "      <th>2</th>\n",
       "      <td>3</td>\n",
       "      <td>Rishabh</td>\n",
       "      <td>Sharma</td>\n",
       "      <td>rishabhssharma2607@gmail.com</td>\n",
       "      <td>8208498568</td>\n",
       "      <td>2000-07-26</td>\n",
       "      <td>Maharashtra</td>\n",
       "      <td>MUMBAI UNIVERSITY</td>\n",
       "      <td>Other</td>\n",
       "      <td>Computer Science</td>\n",
       "      <td>Bachelor Of Science</td>\n",
       "      <td>Sonopant Dandekar College</td>\n",
       "      <td>Maharashtra</td>\n",
       "      <td>West + Raj</td>\n",
       "    </tr>\n",
       "    <tr>\n",
       "      <th>3</th>\n",
       "      <td>4</td>\n",
       "      <td>Arfat</td>\n",
       "      <td>Ansari</td>\n",
       "      <td>arfatansari7208@gmail.com</td>\n",
       "      <td>7208726451</td>\n",
       "      <td>2000-02-05</td>\n",
       "      <td>Maharashtra</td>\n",
       "      <td>MUMBAI UNIVERSITY</td>\n",
       "      <td>D.G.Ruparel College Of Arts, Science And Commerce</td>\n",
       "      <td>Information Technology</td>\n",
       "      <td>Bachelor Of Science</td>\n",
       "      <td>D.g. Ruparel college</td>\n",
       "      <td>Maharashtra</td>\n",
       "      <td>West + Raj</td>\n",
       "    </tr>\n",
       "    <tr>\n",
       "      <th>4</th>\n",
       "      <td>5</td>\n",
       "      <td>Manasi</td>\n",
       "      <td>Mahajan</td>\n",
       "      <td>manasi4129@gmail.com</td>\n",
       "      <td>8291801154</td>\n",
       "      <td>2000-12-16</td>\n",
       "      <td>Maharashtra</td>\n",
       "      <td>MUMBAI UNIVERSITY</td>\n",
       "      <td>B.K. Birla College Of Arts, Science &amp; Commerce</td>\n",
       "      <td>Computer Science</td>\n",
       "      <td>Bachelor Of Science</td>\n",
       "      <td>Hislop College Nagpur</td>\n",
       "      <td>Maharashtra</td>\n",
       "      <td>West + Raj</td>\n",
       "    </tr>\n",
       "  </tbody>\n",
       "</table>\n",
       "</div>"
      ],
      "text/plain": [
       "   Sl No Candidate First Name Candidate Last Name  \\\n",
       "0      1               Shruti             Udyawar   \n",
       "1      2               Bhavik              Deorya   \n",
       "2      3              Rishabh              Sharma   \n",
       "3      4                Arfat              Ansari   \n",
       "4      5               Manasi             Mahajan   \n",
       "\n",
       "              Candidate Mail Id  Candidate mobile_Number Date of Birth  \\\n",
       "0    shruti.udyawar@somaiya.edu               7045935873    2000-09-28   \n",
       "1              deorya@gmail.com               9967513173    2001-01-23   \n",
       "2  rishabhssharma2607@gmail.com               8208498568    2000-07-26   \n",
       "3     arfatansari7208@gmail.com               7208726451    2000-02-05   \n",
       "4          manasi4129@gmail.com               8291801154    2000-12-16   \n",
       "\n",
       "  graduation_State graduation_Board_Or_University  \\\n",
       "0      Maharashtra              MUMBAI UNIVERSITY   \n",
       "1      Maharashtra              MUMBAI UNIVERSITY   \n",
       "2      Maharashtra              MUMBAI UNIVERSITY   \n",
       "3      Maharashtra              MUMBAI UNIVERSITY   \n",
       "4      Maharashtra              MUMBAI UNIVERSITY   \n",
       "\n",
       "                             graduation_College_Name  \\\n",
       "0        K. J. Somaiya College Of Science & Commerce   \n",
       "1                                              Other   \n",
       "2                                              Other   \n",
       "3  D.G.Ruparel College Of Arts, Science And Commerce   \n",
       "4     B.K. Birla College Of Arts, Science & Commerce   \n",
       "\n",
       "  graduation_Specialization_Or_Branch graduation_Qualification  \\\n",
       "0              Information Technology      Bachelor Of Science   \n",
       "1              Information Technology      Bachelor Of Science   \n",
       "2                    Computer Science      Bachelor Of Science   \n",
       "3              Information Technology      Bachelor Of Science   \n",
       "4                    Computer Science      Bachelor Of Science   \n",
       "\n",
       "                   College Name College State      Region  \n",
       "0        Hislop College Nagpur    Maharashtra  West + Raj  \n",
       "1  VPM's R.Z College of Science   Maharashtra  West + Raj  \n",
       "2     Sonopant Dandekar College   Maharashtra  West + Raj  \n",
       "3          D.g. Ruparel college   Maharashtra  West + Raj  \n",
       "4        Hislop College Nagpur    Maharashtra  West + Raj  "
      ]
     },
     "execution_count": 2,
     "metadata": {},
     "output_type": "execute_result"
    }
   ],
   "source": [
    "df= pd.read_excel('Mumbai Region.xlsx')\n",
    "df.head()"
   ]
  },
  {
   "cell_type": "code",
   "execution_count": 14,
   "metadata": {},
   "outputs": [
    {
     "data": {
      "text/plain": [
       "0   2000-09-28\n",
       "1   2001-01-23\n",
       "2   2000-07-26\n",
       "3   2000-02-05\n",
       "4   2000-12-16\n",
       "Name: Date of Birth, dtype: datetime64[ns]"
      ]
     },
     "execution_count": 14,
     "metadata": {},
     "output_type": "execute_result"
    }
   ],
   "source": [
    "df['Date of Birth'].head()"
   ]
  },
  {
   "cell_type": "code",
   "execution_count": 26,
   "metadata": {},
   "outputs": [],
   "source": [
    "df['Months'] = pd.DatetimeIndex(df['Date of Birth']).month\n",
    "df['Year'] = pd.DatetimeIndex(df['Date of Birth']).year"
   ]
  },
  {
   "cell_type": "code",
   "execution_count": 27,
   "metadata": {},
   "outputs": [
    {
     "data": {
      "text/html": [
       "<div>\n",
       "<style scoped>\n",
       "    .dataframe tbody tr th:only-of-type {\n",
       "        vertical-align: middle;\n",
       "    }\n",
       "\n",
       "    .dataframe tbody tr th {\n",
       "        vertical-align: top;\n",
       "    }\n",
       "\n",
       "    .dataframe thead th {\n",
       "        text-align: right;\n",
       "    }\n",
       "</style>\n",
       "<table border=\"1\" class=\"dataframe\">\n",
       "  <thead>\n",
       "    <tr style=\"text-align: right;\">\n",
       "      <th></th>\n",
       "      <th>Sl No</th>\n",
       "      <th>Candidate First Name</th>\n",
       "      <th>Candidate Last Name</th>\n",
       "      <th>Candidate Mail Id</th>\n",
       "      <th>Candidate mobile_Number</th>\n",
       "      <th>Date of Birth</th>\n",
       "      <th>graduation_State</th>\n",
       "      <th>graduation_Board_Or_University</th>\n",
       "      <th>graduation_College_Name</th>\n",
       "      <th>graduation_Specialization_Or_Branch</th>\n",
       "      <th>graduation_Qualification</th>\n",
       "      <th>College Name</th>\n",
       "      <th>College State</th>\n",
       "      <th>Region</th>\n",
       "      <th>Months</th>\n",
       "      <th>Year</th>\n",
       "    </tr>\n",
       "  </thead>\n",
       "  <tbody>\n",
       "    <tr>\n",
       "      <th>0</th>\n",
       "      <td>1</td>\n",
       "      <td>Shruti</td>\n",
       "      <td>Udyawar</td>\n",
       "      <td>shruti.udyawar@somaiya.edu</td>\n",
       "      <td>7045935873</td>\n",
       "      <td>2000-09-28</td>\n",
       "      <td>Maharashtra</td>\n",
       "      <td>MUMBAI UNIVERSITY</td>\n",
       "      <td>K. J. Somaiya College Of Science &amp; Commerce</td>\n",
       "      <td>Information Technology</td>\n",
       "      <td>Bachelor Of Science</td>\n",
       "      <td>Hislop College Nagpur</td>\n",
       "      <td>Maharashtra</td>\n",
       "      <td>West + Raj</td>\n",
       "      <td>9</td>\n",
       "      <td>2000</td>\n",
       "    </tr>\n",
       "    <tr>\n",
       "      <th>1</th>\n",
       "      <td>2</td>\n",
       "      <td>Bhavik</td>\n",
       "      <td>Deorya</td>\n",
       "      <td>deorya@gmail.com</td>\n",
       "      <td>9967513173</td>\n",
       "      <td>2001-01-23</td>\n",
       "      <td>Maharashtra</td>\n",
       "      <td>MUMBAI UNIVERSITY</td>\n",
       "      <td>Other</td>\n",
       "      <td>Information Technology</td>\n",
       "      <td>Bachelor Of Science</td>\n",
       "      <td>VPM's R.Z College of Science</td>\n",
       "      <td>Maharashtra</td>\n",
       "      <td>West + Raj</td>\n",
       "      <td>1</td>\n",
       "      <td>2001</td>\n",
       "    </tr>\n",
       "    <tr>\n",
       "      <th>2</th>\n",
       "      <td>3</td>\n",
       "      <td>Rishabh</td>\n",
       "      <td>Sharma</td>\n",
       "      <td>rishabhssharma2607@gmail.com</td>\n",
       "      <td>8208498568</td>\n",
       "      <td>2000-07-26</td>\n",
       "      <td>Maharashtra</td>\n",
       "      <td>MUMBAI UNIVERSITY</td>\n",
       "      <td>Other</td>\n",
       "      <td>Computer Science</td>\n",
       "      <td>Bachelor Of Science</td>\n",
       "      <td>Sonopant Dandekar College</td>\n",
       "      <td>Maharashtra</td>\n",
       "      <td>West + Raj</td>\n",
       "      <td>7</td>\n",
       "      <td>2000</td>\n",
       "    </tr>\n",
       "    <tr>\n",
       "      <th>3</th>\n",
       "      <td>4</td>\n",
       "      <td>Arfat</td>\n",
       "      <td>Ansari</td>\n",
       "      <td>arfatansari7208@gmail.com</td>\n",
       "      <td>7208726451</td>\n",
       "      <td>2000-02-05</td>\n",
       "      <td>Maharashtra</td>\n",
       "      <td>MUMBAI UNIVERSITY</td>\n",
       "      <td>D.G.Ruparel College Of Arts, Science And Commerce</td>\n",
       "      <td>Information Technology</td>\n",
       "      <td>Bachelor Of Science</td>\n",
       "      <td>D.g. Ruparel college</td>\n",
       "      <td>Maharashtra</td>\n",
       "      <td>West + Raj</td>\n",
       "      <td>2</td>\n",
       "      <td>2000</td>\n",
       "    </tr>\n",
       "    <tr>\n",
       "      <th>4</th>\n",
       "      <td>5</td>\n",
       "      <td>Manasi</td>\n",
       "      <td>Mahajan</td>\n",
       "      <td>manasi4129@gmail.com</td>\n",
       "      <td>8291801154</td>\n",
       "      <td>2000-12-16</td>\n",
       "      <td>Maharashtra</td>\n",
       "      <td>MUMBAI UNIVERSITY</td>\n",
       "      <td>B.K. Birla College Of Arts, Science &amp; Commerce</td>\n",
       "      <td>Computer Science</td>\n",
       "      <td>Bachelor Of Science</td>\n",
       "      <td>Hislop College Nagpur</td>\n",
       "      <td>Maharashtra</td>\n",
       "      <td>West + Raj</td>\n",
       "      <td>12</td>\n",
       "      <td>2000</td>\n",
       "    </tr>\n",
       "  </tbody>\n",
       "</table>\n",
       "</div>"
      ],
      "text/plain": [
       "   Sl No Candidate First Name Candidate Last Name  \\\n",
       "0      1               Shruti             Udyawar   \n",
       "1      2               Bhavik              Deorya   \n",
       "2      3              Rishabh              Sharma   \n",
       "3      4                Arfat              Ansari   \n",
       "4      5               Manasi             Mahajan   \n",
       "\n",
       "              Candidate Mail Id  Candidate mobile_Number Date of Birth  \\\n",
       "0    shruti.udyawar@somaiya.edu               7045935873    2000-09-28   \n",
       "1              deorya@gmail.com               9967513173    2001-01-23   \n",
       "2  rishabhssharma2607@gmail.com               8208498568    2000-07-26   \n",
       "3     arfatansari7208@gmail.com               7208726451    2000-02-05   \n",
       "4          manasi4129@gmail.com               8291801154    2000-12-16   \n",
       "\n",
       "  graduation_State graduation_Board_Or_University  \\\n",
       "0      Maharashtra              MUMBAI UNIVERSITY   \n",
       "1      Maharashtra              MUMBAI UNIVERSITY   \n",
       "2      Maharashtra              MUMBAI UNIVERSITY   \n",
       "3      Maharashtra              MUMBAI UNIVERSITY   \n",
       "4      Maharashtra              MUMBAI UNIVERSITY   \n",
       "\n",
       "                             graduation_College_Name  \\\n",
       "0        K. J. Somaiya College Of Science & Commerce   \n",
       "1                                              Other   \n",
       "2                                              Other   \n",
       "3  D.G.Ruparel College Of Arts, Science And Commerce   \n",
       "4     B.K. Birla College Of Arts, Science & Commerce   \n",
       "\n",
       "  graduation_Specialization_Or_Branch graduation_Qualification  \\\n",
       "0              Information Technology      Bachelor Of Science   \n",
       "1              Information Technology      Bachelor Of Science   \n",
       "2                    Computer Science      Bachelor Of Science   \n",
       "3              Information Technology      Bachelor Of Science   \n",
       "4                    Computer Science      Bachelor Of Science   \n",
       "\n",
       "                   College Name College State      Region  Months  Year  \n",
       "0        Hislop College Nagpur    Maharashtra  West + Raj       9  2000  \n",
       "1  VPM's R.Z College of Science   Maharashtra  West + Raj       1  2001  \n",
       "2     Sonopant Dandekar College   Maharashtra  West + Raj       7  2000  \n",
       "3          D.g. Ruparel college   Maharashtra  West + Raj       2  2000  \n",
       "4        Hislop College Nagpur    Maharashtra  West + Raj      12  2000  "
      ]
     },
     "execution_count": 27,
     "metadata": {},
     "output_type": "execute_result"
    }
   ],
   "source": [
    "df.head()"
   ]
  },
  {
   "cell_type": "code",
   "execution_count": 28,
   "metadata": {},
   "outputs": [
    {
     "data": {
      "text/plain": [
       "0     9\n",
       "1     1\n",
       "2     7\n",
       "3     2\n",
       "4    12\n",
       "5    10\n",
       "6    11\n",
       "7     8\n",
       "8    11\n",
       "9    11\n",
       "Name: Months, dtype: int64"
      ]
     },
     "execution_count": 28,
     "metadata": {},
     "output_type": "execute_result"
    }
   ],
   "source": [
    "df['Months'].head(10)"
   ]
  },
  {
   "cell_type": "code",
   "execution_count": 37,
   "metadata": {},
   "outputs": [
    {
     "data": {
      "text/plain": [
       "<seaborn.axisgrid.FacetGrid at 0x1d6bc519e20>"
      ]
     },
     "execution_count": 37,
     "metadata": {},
     "output_type": "execute_result"
    },
    {
     "data": {
      "image/png": "[encoded data removed]",
      "text/plain": [
       "<Figure size 360x360 with 1 Axes>"
      ]
     },
     "metadata": {
      "needs_background": "light"
     },
     "output_type": "display_data"
    }
   ],
   "source": [
    "sns.displot(data=df,x='Year')"
   ]
  },
  {
   "cell_type": "code",
   "execution_count": 38,
   "metadata": {},
   "outputs": [
    {
     "data": {
      "text/html": [
       "<div>\n",
       "<style scoped>\n",
       "    .dataframe tbody tr th:only-of-type {\n",
       "        vertical-align: middle;\n",
       "    }\n",
       "\n",
       "    .dataframe tbody tr th {\n",
       "        vertical-align: top;\n",
       "    }\n",
       "\n",
       "    .dataframe thead th {\n",
       "        text-align: right;\n",
       "    }\n",
       "</style>\n",
       "<table border=\"1\" class=\"dataframe\">\n",
       "  <thead>\n",
       "    <tr style=\"text-align: right;\">\n",
       "      <th></th>\n",
       "      <th>Sl No</th>\n",
       "      <th>Candidate mobile_Number</th>\n",
       "      <th>Months</th>\n",
       "      <th>Year</th>\n",
       "    </tr>\n",
       "  </thead>\n",
       "  <tbody>\n",
       "    <tr>\n",
       "      <th>Sl No</th>\n",
       "      <td>1.000000</td>\n",
       "      <td>0.024046</td>\n",
       "      <td>-0.030179</td>\n",
       "      <td>-0.065650</td>\n",
       "    </tr>\n",
       "    <tr>\n",
       "      <th>Candidate mobile_Number</th>\n",
       "      <td>0.024046</td>\n",
       "      <td>1.000000</td>\n",
       "      <td>0.005526</td>\n",
       "      <td>0.011248</td>\n",
       "    </tr>\n",
       "    <tr>\n",
       "      <th>Months</th>\n",
       "      <td>-0.030179</td>\n",
       "      <td>0.005526</td>\n",
       "      <td>1.000000</td>\n",
       "      <td>-0.305426</td>\n",
       "    </tr>\n",
       "    <tr>\n",
       "      <th>Year</th>\n",
       "      <td>-0.065650</td>\n",
       "      <td>0.011248</td>\n",
       "      <td>-0.305426</td>\n",
       "      <td>1.000000</td>\n",
       "    </tr>\n",
       "  </tbody>\n",
       "</table>\n",
       "</div>"
      ],
      "text/plain": [
       "                            Sl No  Candidate mobile_Number    Months      Year\n",
       "Sl No                    1.000000                 0.024046 -0.030179 -0.065650\n",
       "Candidate mobile_Number  0.024046                 1.000000  0.005526  0.011248\n",
       "Months                  -0.030179                 0.005526  1.000000 -0.305426\n",
       "Year                    -0.065650                 0.011248 -0.305426  1.000000"
      ]
     },
     "execution_count": 38,
     "metadata": {},
     "output_type": "execute_result"
    }
   ],
   "source": [
    "df.corr()"
   ]
  },
  {
   "cell_type": "code",
   "execution_count": 40,
   "metadata": {},
   "outputs": [
    {
     "data": {
      "text/plain": [
       "0      2000\n",
       "1      2001\n",
       "2      2000\n",
       "3      2000\n",
       "4      2000\n",
       "       ... \n",
       "334    2001\n",
       "335    2000\n",
       "336    2000\n",
       "337    1997\n",
       "338    2000\n",
       "Name: Year, Length: 339, dtype: int64"
      ]
     },
     "execution_count": 40,
     "metadata": {},
     "output_type": "execute_result"
    }
   ],
   "source": [
    "df['Year']"
   ]
  },
  {
   "cell_type": "code",
   "execution_count": 41,
   "metadata": {},
   "outputs": [
    {
     "name": "stderr",
     "output_type": "stream",
     "text": [
      "C:\\Users\\Mali pc\\anaconda3\\lib\\site-packages\\seaborn\\distributions.py:2551: FutureWarning: `distplot` is a deprecated function and will be removed in a future version. Please adapt your code to use either `displot` (a figure-level function with similar flexibility) or `histplot` (an axes-level function for histograms).\n",
      "  warnings.warn(msg, FutureWarning)\n"
     ]
    },
    {
     "data": {
      "text/plain": [
       "<AxesSubplot:xlabel='Year', ylabel='Density'>"
      ]
     },
     "execution_count": 41,
     "metadata": {},
     "output_type": "execute_result"
    },
    {
     "data": {
      "image/png": "[encoded data removed]",
      "text/plain": [
       "<Figure size 432x288 with 1 Axes>"
      ]
     },
     "metadata": {
      "needs_background": "light"
     },
     "output_type": "display_data"
    }
   ],
   "source": [
    "sns.distplot(df['Year'])"
   ]
  },
  {
   "cell_type": "code",
   "execution_count": 43,
   "metadata": {},
   "outputs": [
    {
     "data": {
      "text/plain": [
       "<seaborn.axisgrid.JointGrid at 0x1d6bb2d9130>"
      ]
     },
     "execution_count": 43,
     "metadata": {},
     "output_type": "execute_result"
    },
    {
     "data": {
      "image/png": "[encoded data removed]",
      "text/plain": [
       "<Figure size 432x432 with 3 Axes>"
      ]
     },
     "metadata": {
      "needs_background": "light"
     },
     "output_type": "display_data"
    }
   ],
   "source": [
    "sns.jointplot(x='Months',y='Year', data=df)"
   ]
  },
  {
   "cell_type": "code",
   "execution_count": 91,
   "metadata": {},
   "outputs": [
    {
     "data": {
      "text/plain": [
       "<seaborn.axisgrid.FacetGrid at 0x1d6b82ff340>"
      ]
     },
     "execution_count": 91,
     "metadata": {},
     "output_type": "execute_result"
    },
    {
     "data": {
      "image/png": "[encoded data removed]",
      "text/plain": [
       "<Figure size 360x360 with 1 Axes>"
      ]
     },
     "metadata": {
      "needs_background": "light"
     },
     "output_type": "display_data"
    }
   ],
   "source": [
    "sns.displot(data=df, x='Months',kde=True)"
   ]
  },
  {
   "cell_type": "code",
   "execution_count": 44,
   "metadata": {},
   "outputs": [
    {
     "data": {
      "text/plain": [
       "0          K. J. Somaiya College Of Science & Commerce\n",
       "1                                                Other\n",
       "2                                                Other\n",
       "3    D.G.Ruparel College Of Arts, Science And Commerce\n",
       "4       B.K. Birla College Of Arts, Science & Commerce\n",
       "Name: graduation_College_Name, dtype: object"
      ]
     },
     "execution_count": 44,
     "metadata": {},
     "output_type": "execute_result"
    }
   ],
   "source": [
    "df['graduation_College_Name'].head()"
   ]
  },
  {
   "cell_type": "code",
   "execution_count": 46,
   "metadata": {},
   "outputs": [
    {
     "data": {
      "text/plain": [
       "Other                                                                               177\n",
       "Mahatma Education Society\"S Pillai\"S College Of Arts, Commerce & Science             33\n",
       "Vidyalankar Institute of Technology                                                  21\n",
       "K. J. Somaiya College Of Science & Commerce                                          18\n",
       "Kishinchand Chellaram College                                                        16\n",
       "D.G.Ruparel College Of Arts, Science And Commerce                                    13\n",
       "Thakur College of Engineering and Technology                                         11\n",
       "Guru Nanak Khalsa College Of Arts, Science & Commerce                                 8\n",
       "Mulund College Of Commerce                                                            6\n",
       "B.K. Birla College Of Arts, Science & Commerce                                        4\n",
       "Pillai College of Engineering                                                         3\n",
       "Scope College of Engineering                                                          3\n",
       "Bharatiya Vidya Bhavans Sardar Patel Institute of Technology                          2\n",
       "Guru Nanak College Of Arts, Science & Commerce                                        2\n",
       "Sies Graduate School of Technology                                                    2\n",
       "B.N. Bandodkar College Of Science                                                     2\n",
       "Bhiwandi Nizampur Nagarpalika College                                                 2\n",
       "Shri Vile Parle Kelavani Mandals Narsee Monjee Institute of Management Studies        2\n",
       "Model College                                                                         2\n",
       "St. John College of Engineering and Management                                        1\n",
       "Sadabai Raisoni Women's College                                                       1\n",
       "Lala Lajapatrai College Of Commerce & Economics                                       1\n",
       "Bharati Vidyapeeth College of Engineering, Navi Mumbai                                1\n",
       "Maharshi Karve Stree Shikshan Samstha's Cummins College of Engineering for Women      1\n",
       "K.J. Somaiya College of Engineering Vidyavihar, Mumbai, Maharashtra                   1\n",
       "Elphinstone College                                                                   1\n",
       "Changu Kana Thakur Arts, Commerce & Science College                                   1\n",
       "Dombnili S.P. Mandal\"S S.K.V. Pendherkar Arts, Science And Commerce College           1\n",
       "K.P.B. Hinduja College Of Commerce                                                    1\n",
       "Dr. Datar Science Dr. Behera Arts & Shri P.J. Commerce College                        1\n",
       "Pillai College Of Architecture                                                        1\n",
       "Name: graduation_College_Name, dtype: int64"
      ]
     },
     "execution_count": 46,
     "metadata": {},
     "output_type": "execute_result"
    }
   ],
   "source": [
    "df['graduation_College_Name'].value_counts()"
   ]
  },
  {
   "cell_type": "code",
   "execution_count": 51,
   "metadata": {},
   "outputs": [],
   "source": [
    "college_count = df['graduation_College_Name'][:8].value_counts()"
   ]
  },
  {
   "cell_type": "code",
   "execution_count": 52,
   "metadata": {},
   "outputs": [
    {
     "data": {
      "text/plain": [
       "Index(['Other',\n",
       "       'Mahatma Education Society\"S Pillai\"S College Of Arts, Commerce & Science',\n",
       "       'B.K. Birla College Of Arts, Science & Commerce',\n",
       "       'Guru Nanak College Of Arts, Science & Commerce',\n",
       "       'D.G.Ruparel College Of Arts, Science And Commerce',\n",
       "       'Vidyalankar Institute of Technology',\n",
       "       'K. J. Somaiya College Of Science & Commerce'],\n",
       "      dtype='object')"
      ]
     },
     "execution_count": 52,
     "metadata": {},
     "output_type": "execute_result"
    }
   ],
   "source": [
    "college_count.index"
   ]
  },
  {
   "cell_type": "code",
   "execution_count": 55,
   "metadata": {},
   "outputs": [
    {
     "data": {
      "text/plain": [
       "<AxesSubplot:>"
      ]
     },
     "execution_count": 55,
     "metadata": {},
     "output_type": "execute_result"
    },
    {
     "data": {
      "image/png": "[encoded data removed]",
      "text/plain": [
       "<Figure size 432x288 with 1 Axes>"
      ]
     },
     "metadata": {
      "needs_background": "light"
     },
     "output_type": "display_data"
    }
   ],
   "source": [
    "sns.barplot(x=college_count.index,y=college_count.values)"
   ]
  },
  {
   "cell_type": "code",
   "execution_count": 66,
   "metadata": {},
   "outputs": [],
   "source": [
    "short_college_names = []\n",
    "for i in df['graduation_College_Name']:\n",
    "    short_college_names.append(i.split(' ')[0])\n",
    "    "
   ]
  },
  {
   "cell_type": "code",
   "execution_count": 67,
   "metadata": {},
   "outputs": [],
   "source": [
    "df['shorten_names'] = short_college_names"
   ]
  },
  {
   "cell_type": "code",
   "execution_count": 68,
   "metadata": {},
   "outputs": [
    {
     "data": {
      "text/plain": [
       "0             K.\n",
       "1          Other\n",
       "2          Other\n",
       "3    D.G.Ruparel\n",
       "4           B.K.\n",
       "Name: shorten_names, dtype: object"
      ]
     },
     "execution_count": 68,
     "metadata": {},
     "output_type": "execute_result"
    }
   ],
   "source": [
    "df['shorten_names'].head()"
   ]
  },
  {
   "cell_type": "code",
   "execution_count": 76,
   "metadata": {},
   "outputs": [],
   "source": [
    "list_of_college= df['shorten_names'].head(10)"
   ]
  },
  {
   "cell_type": "code",
   "execution_count": 77,
   "metadata": {},
   "outputs": [
    {
     "data": {
      "text/plain": [
       "0             K.\n",
       "1          Other\n",
       "2          Other\n",
       "3    D.G.Ruparel\n",
       "4           B.K.\n",
       "5           Guru\n",
       "6    Vidyalankar\n",
       "7        Mahatma\n",
       "8         Mulund\n",
       "9        Mahatma\n",
       "Name: shorten_names, dtype: object"
      ]
     },
     "execution_count": 77,
     "metadata": {},
     "output_type": "execute_result"
    }
   ],
   "source": [
    "list_of_college"
   ]
  },
  {
   "cell_type": "code",
   "execution_count": 80,
   "metadata": {},
   "outputs": [],
   "source": [
    "mode = df['shorten_names'].value_counts()[:8]"
   ]
  },
  {
   "cell_type": "code",
   "execution_count": 83,
   "metadata": {},
   "outputs": [
    {
     "data": {
      "text/plain": [
       "Other          177\n",
       "Mahatma         33\n",
       "Vidyalankar     21\n",
       "K.              18\n",
       "Kishinchand     16\n",
       "D.G.Ruparel     13\n",
       "Thakur          11\n",
       "Guru            10\n",
       "Name: shorten_names, dtype: int64"
      ]
     },
     "execution_count": 83,
     "metadata": {},
     "output_type": "execute_result"
    }
   ],
   "source": [
    "mode"
   ]
  },
  {
   "cell_type": "code",
   "execution_count": 84,
   "metadata": {},
   "outputs": [
    {
     "data": {
      "text/plain": [
       "array([177,  33,  21,  18,  16,  13,  11,  10], dtype=int64)"
      ]
     },
     "execution_count": 84,
     "metadata": {},
     "output_type": "execute_result"
    }
   ],
   "source": [
    "mode.values"
   ]
  },
  {
   "cell_type": "code",
   "execution_count": 85,
   "metadata": {},
   "outputs": [
    {
     "data": {
      "text/plain": [
       "Index(['Other', 'Mahatma', 'Vidyalankar', 'K.', 'Kishinchand', 'D.G.Ruparel',\n",
       "       'Thakur', 'Guru'],\n",
       "      dtype='object')"
      ]
     },
     "execution_count": 85,
     "metadata": {},
     "output_type": "execute_result"
    }
   ],
   "source": [
    "mode.index"
   ]
  },
  {
   "cell_type": "code",
   "execution_count": 86,
   "metadata": {},
   "outputs": [
    {
     "data": {
      "text/plain": [
       "<AxesSubplot:>"
      ]
     },
     "execution_count": 86,
     "metadata": {},
     "output_type": "execute_result"
    },
    {
     "data": {
      "image/png": "[encoded data removed]",
      "text/plain": [
       "<Figure size 432x288 with 1 Axes>"
      ]
     },
     "metadata": {
      "needs_background": "light"
     },
     "output_type": "display_data"
    }
   ],
   "source": [
    "sns.barplot(x=mode.index,y=mode.values)"
   ]
  },
  {
   "cell_type": "code",
   "execution_count": 89,
   "metadata": {},
   "outputs": [],
   "source": [
    "import matplotlib.pyplot as plt"
   ]
  },
  {
   "cell_type": "code",
   "execution_count": 90,
   "metadata": {},
   "outputs": [
    {
     "data": {
      "text/plain": [
       "(-1.1125343708126927,\n",
       " 1.1034174878419103,\n",
       " -1.1117325051307336,\n",
       " 1.1005586907205112)"
      ]
     },
     "execution_count": 90,
     "metadata": {},
     "output_type": "execute_result"
    },
    {
     "data": {
      "image/png": "[encoded data removed]",
      "text/plain": [
       "<Figure size 432x288 with 1 Axes>"
      ]
     },
     "metadata": {},
     "output_type": "display_data"
    }
   ],
   "source": [
    "fig1, ax1 = plt.subplots()\n",
    "ax1.pie(mode.values, labels=mode.index, autopct='%1.1f%%',\n",
    "        shadow=True, startangle=90)\n",
    "ax1.axis('equal')"
   ]
  },
  {
   "cell_type": "code",
   "execution_count": null,
   "metadata": {},
   "outputs": [],
   "source": []
  }
 ],
 "metadata": {
  "kernelspec": {
   "display_name": "Python 3",
   "language": "python",
   "name": "python3"
  },
  "language_info": {
   "codemirror_mode": {
    "name": "ipython",
    "version": 3
   },
   "file_extension": ".py",
   "mimetype": "text/x-python",
   "name": "python",
   "nbconvert_exporter": "python",
   "pygments_lexer": "ipython3",
   "version": "3.8.5"
  }
 },
 "nbformat": 4,
 "nbformat_minor": 4
}
